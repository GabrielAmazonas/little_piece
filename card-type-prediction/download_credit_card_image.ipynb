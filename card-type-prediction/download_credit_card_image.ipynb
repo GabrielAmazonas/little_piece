{
 "cells": [
  {
   "cell_type": "markdown",
   "metadata": {},
   "source": [
    "# Preparing Credit Card image data\n",
    "This notebook explain how to prepare credit card image data from our credit card type detection analysis."
   ]
  },
  {
   "cell_type": "markdown",
   "metadata": {},
   "source": [
    "*I already prepare the data in this repository so that you don't have to download the image yourself.*"
   ]
  },
  {
   "cell_type": "markdown",
   "metadata": {},
   "source": [
    "First of all, we can get credit card image from https://www.moneyhero.com.hk. We can get the url of all their credit card images using their API calls."
   ]
  },
  {
   "cell_type": "code",
   "execution_count": 2,
   "metadata": {},
   "outputs": [],
   "source": [
    "import requests\n",
    "import re\n",
    "\n",
    "# Call API to access credit card data\n",
    "url = 'https://www.moneyhero.com.hk/api/credit-card/v2/cards/all?lang=en&pageSize=1000'\n",
    "\n",
    "response = requests.get(url)\n",
    "data = response.json()\n",
    "\n",
    "# Parse the json reponse and get the name of the credit card and url of the credit card image\n",
    "cards = data['featuredCards'] + data['cards']\n",
    "card_names =  [card['name'] for card in cards]\n",
    "card_images = [card['image'] for card in cards]\n",
    "card_images_name = [re.search('([^/]+$)', image).group(1) for image in card_images]"
   ]
  },
  {
   "cell_type": "code",
   "execution_count": null,
   "metadata": {
    "collapsed": true
   },
   "outputs": [],
   "source": [
    "# Download raw image\n",
    "import urllib\n",
    "for i in range(len(card_images)):\n",
    "    urllib.request.urlretrieve(card_images[i], 'input/train_raw_card_image/'+card_images_name[i])\n",
    "\n",
    "df = pd.DataFrame({ 'name': pd.Series(card_names),\n",
    "                    'image_name': pd.Series(card_images_name)})\n",
    "\n",
    "df.sort_values(by = 'image_name').to_csv('input/credit-card.csv')"
   ]
  },
  {
   "cell_type": "markdown",
   "metadata": {},
   "source": [
    "We store the card name and image name into a csv file. But we will have to edit the csv and manually label the card type. I already labelled them for you so you don't have to download the data."
   ]
  },
  {
   "cell_type": "code",
   "execution_count": null,
   "metadata": {
    "collapsed": true
   },
   "outputs": [],
   "source": [
    "# Reduce the size of the image\n",
    "\n",
    "# Reading the image (Skip if already resized)\n",
    "card_images_raw = list(map(lambda img: misc.imread('input/train_raw_card_image/'+img)[:,:,:3], df2.image_name))\n",
    "# Resize the image so that they have the same dimension\n",
    "card_images_resize = list(map(lambda img: misc.imresize(img, (56, 92, 3)), card_images_raw))\n",
    "# Saver the image if necessary\n",
    "for i in range(len(card_images_resize)):\n",
    "    misc.imsave('images/'+df.image_name[i], card_images_resize[i])"
   ]
  }
 ],
 "metadata": {
  "kernelspec": {
   "display_name": "Python [conda root]",
   "language": "python",
   "name": "conda-root-py"
  },
  "language_info": {
   "codemirror_mode": {
    "name": "ipython",
    "version": 3
   },
   "file_extension": ".py",
   "mimetype": "text/x-python",
   "name": "python",
   "nbconvert_exporter": "python",
   "pygments_lexer": "ipython3",
   "version": "3.5.2"
  }
 },
 "nbformat": 4,
 "nbformat_minor": 2
}
